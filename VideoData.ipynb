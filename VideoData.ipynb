{
 "cells": [
  {
   "cell_type": "code",
   "execution_count": 44,
   "metadata": {},
   "outputs": [
    {
     "name": "stdout",
     "output_type": "stream",
     "text": [
      "Enter YouTube link:https://www.youtube.com/watch?v=cYrVTpVeeDs\n",
      "                                               Title            Views  \\\n",
      "0  Audi RS6 v BMW M5 v AMG E63 v Porsche Panamera...  5,006,177 views   \n",
      "\n",
      "         Posted Likes                                         link  \n",
      "0  Feb 22, 2020  106K  https://www.youtube.com/watch?v=cYrVTpVeeDs  \n"
     ]
    }
   ],
   "source": [
    "from selenium import webdriver\n",
    "\n",
    "#'https://www.youtube.com/c/carwow/videos'\n",
    "url = input('Enter YouTube link:')\n",
    "chrome_path = r\"C:\\Users\\DHRUV\\Desktop\\chrome driver\\chromedriver_win32\\chromedriver.exe\"\n",
    "driver = webdriver.Chrome(chrome_path)\n",
    "driver.get(url)\n",
    "videos = driver.find_elements_by_class_name('style-scope ytd-watch-flexy')\n",
    "#style-scope ytd-watch-flexy\n",
    "youtube_videos = []\n",
    "for video in videos:\n",
    "    link = url\n",
    "    title = video.find_element_by_xpath('.//*[@id=\"container\"]/h1/yt-formatted-string').text\n",
    "    views = video.find_element_by_xpath('.//*[@id=\"count\"]/yt-view-count-renderer/span[1]').text\n",
    "    date = video.find_element_by_xpath('.//*[@id=\"date\"]/yt-formatted-string').text\n",
    "    likes = video.find_element_by_xpath('//*[@id=\"top-level-buttons\"]/ytd-toggle-button-renderer[1]/a').text\n",
    "    #dislikes = video.find_elements_by_xpath('.//*[@id=\"top-level-buttons\"]/ytd-toggle-button-renderer[2]/a').text\n",
    "    #comments = int(video.find_element_by_xpath('.//*[@id=\"count\"]/h2/yt-formatted-string')).text\n",
    "    \n",
    "    vid_items = {\n",
    "        'Title': title,\n",
    "        'Views': views,\n",
    "        'Posted': date, \n",
    "        'Likes' : likes,\n",
    "        #'Dislikes' : dislikes,\n",
    "        'link': link,\n",
    "        #'Commnets' : comments\n",
    "    }\n",
    "    youtube_videos.append(vid_items)\n",
    "    \n",
    "import pandas as pd\n",
    "\n",
    "df = pd.DataFrame(youtube_videos)\n",
    "print(df)\n",
    "\n",
    "df.to_csv('/Users/DHRUV/Desktop/YouTube_Data/data.csv')\n",
    "\n",
    "\n"
   ]
  },
  {
   "cell_type": "code",
   "execution_count": 45,
   "metadata": {},
   "outputs": [
    {
     "data": {
      "text/html": [
       "<div>\n",
       "<style scoped>\n",
       "    .dataframe tbody tr th:only-of-type {\n",
       "        vertical-align: middle;\n",
       "    }\n",
       "\n",
       "    .dataframe tbody tr th {\n",
       "        vertical-align: top;\n",
       "    }\n",
       "\n",
       "    .dataframe thead th {\n",
       "        text-align: right;\n",
       "    }\n",
       "</style>\n",
       "<table border=\"1\" class=\"dataframe\">\n",
       "  <thead>\n",
       "    <tr style=\"text-align: right;\">\n",
       "      <th></th>\n",
       "      <th>Unnamed: 0</th>\n",
       "      <th>Title</th>\n",
       "      <th>Views</th>\n",
       "      <th>Posted</th>\n",
       "      <th>Likes</th>\n",
       "      <th>link</th>\n",
       "    </tr>\n",
       "  </thead>\n",
       "  <tbody>\n",
       "    <tr>\n",
       "      <th>0</th>\n",
       "      <td>0</td>\n",
       "      <td>Audi RS6 v BMW M5 v AMG E63 v Porsche Panamera...</td>\n",
       "      <td>5,006,177 views</td>\n",
       "      <td>Feb 22, 2020</td>\n",
       "      <td>106K</td>\n",
       "      <td>https://www.youtube.com/watch?v=cYrVTpVeeDs</td>\n",
       "    </tr>\n",
       "  </tbody>\n",
       "</table>\n",
       "</div>"
      ],
      "text/plain": [
       "   Unnamed: 0                                              Title  \\\n",
       "0           0  Audi RS6 v BMW M5 v AMG E63 v Porsche Panamera...   \n",
       "\n",
       "             Views        Posted Likes  \\\n",
       "0  5,006,177 views  Feb 22, 2020  106K   \n",
       "\n",
       "                                          link  \n",
       "0  https://www.youtube.com/watch?v=cYrVTpVeeDs  "
      ]
     },
     "execution_count": 45,
     "metadata": {},
     "output_type": "execute_result"
    }
   ],
   "source": [
    "df1 = pd.read_csv('/Users/DHRUV/Desktop/YouTube_Data/data.csv')\n",
    "df1.head()"
   ]
  },
  {
   "cell_type": "code",
   "execution_count": 46,
   "metadata": {},
   "outputs": [
    {
     "data": {
      "text/html": [
       "<div>\n",
       "<style scoped>\n",
       "    .dataframe tbody tr th:only-of-type {\n",
       "        vertical-align: middle;\n",
       "    }\n",
       "\n",
       "    .dataframe tbody tr th {\n",
       "        vertical-align: top;\n",
       "    }\n",
       "\n",
       "    .dataframe thead th {\n",
       "        text-align: right;\n",
       "    }\n",
       "</style>\n",
       "<table border=\"1\" class=\"dataframe\">\n",
       "  <thead>\n",
       "    <tr style=\"text-align: right;\">\n",
       "      <th></th>\n",
       "      <th>Unnamed: 0</th>\n",
       "      <th>Title</th>\n",
       "      <th>Views</th>\n",
       "      <th>Posted</th>\n",
       "      <th>Likes</th>\n",
       "      <th>link</th>\n",
       "    </tr>\n",
       "  </thead>\n",
       "  <tbody>\n",
       "    <tr>\n",
       "      <th>0</th>\n",
       "      <td>0</td>\n",
       "      <td>Audi RS6 v BMW M5 v AMG E63 v Porsche Panamera...</td>\n",
       "      <td>5,006,177 views</td>\n",
       "      <td>Feb 22, 2020</td>\n",
       "      <td>106K</td>\n",
       "      <td>https://www.youtube.com/watch?v=cYrVTpVeeDs</td>\n",
       "    </tr>\n",
       "  </tbody>\n",
       "</table>\n",
       "</div>"
      ],
      "text/plain": [
       "   Unnamed: 0                                              Title  \\\n",
       "0           0  Audi RS6 v BMW M5 v AMG E63 v Porsche Panamera...   \n",
       "\n",
       "             Views        Posted Likes  \\\n",
       "0  5,006,177 views  Feb 22, 2020  106K   \n",
       "\n",
       "                                          link  \n",
       "0  https://www.youtube.com/watch?v=cYrVTpVeeDs  "
      ]
     },
     "execution_count": 46,
     "metadata": {},
     "output_type": "execute_result"
    }
   ],
   "source": [
    "df1.tail()\n"
   ]
  },
  {
   "cell_type": "code",
   "execution_count": null,
   "metadata": {},
   "outputs": [],
   "source": []
  }
 ],
 "metadata": {
  "kernelspec": {
   "display_name": "Python 3",
   "language": "python",
   "name": "python3"
  },
  "language_info": {
   "codemirror_mode": {
    "name": "ipython",
    "version": 3
   },
   "file_extension": ".py",
   "mimetype": "text/x-python",
   "name": "python",
   "nbconvert_exporter": "python",
   "pygments_lexer": "ipython3",
   "version": "3.7.6"
  }
 },
 "nbformat": 4,
 "nbformat_minor": 4
}
